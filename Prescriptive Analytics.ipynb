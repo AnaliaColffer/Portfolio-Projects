{
 "cells": [
  {
   "cell_type": "code",
   "execution_count": 1,
   "id": "61ff449a-6989-4b12-b901-91bd22d3e350",
   "metadata": {
    "tags": []
   },
   "outputs": [],
   "source": [
    "import pandas as pd\n",
    "import numpy as np\n",
    "from numpy import nan as NA\n",
    "from pandas import DataFrame\n",
    "import matplotlib.pyplot as plt\n",
    "import scipy\n",
    "from scipy.stats import skew\n",
    "from scipy.stats import kurtosis\n",
    "import seaborn as sns"
   ]
  },
  {
   "cell_type": "markdown",
   "id": "70096176-f4dd-4257-9d71-20c3d99eac7c",
   "metadata": {
    "tags": []
   },
   "source": [
    "#### EXECUTIVE SUMMARY\n",
    "        \n",
    "    The following report will explore data on the 2019 FIFA Women's World Cup. The report focuses on finding the relationship between players, teams, and their respective CAPS, as well as the field positions of the players. CAPS represents the number of appearances a player has made with their senior national team, and they are only awarded in international games. Since CAPS are not easily obtainable, the report uses the players' and teams' overall CAPS as an indicator of their experience. The assumption is that the higher the CAPS, the more successful the players and the teams should be. In the World Cup, success translates to the number of goals scored and how far the teams advanced. For instance, team USA had the highest CAPS among all teams (total of 1842) as of 2019, and they also won the World Cup. This report tests that assumption by analyzing the data and answering the four research questions listed in the next section.  \n",
    "\n",
    "    The three datasets used for this analysis are: \"Womens Squads\" contains data on each of the 23 players for all 24 teams in the 2019 WorldCup. \"FIFA Women's World Cup Results\" has data on the 24 countries' total goals, yellow cards, red cards, and others. Lastly, the \"2019WorldCup_Results\" dataset shows the results of the 2019 Women's World Cup. These three datasets are merged and cleaned to form the main data frame for the analysis, called \"ct\". This data frame is divided into two tables referenced as \"main\" and \"secondary\" throughout the analysis. The main table refers to all data from columns 0-8, which contains information on all 522 players of the 2019 World Cup. The secondary table refers to data from columns 9-15, which contains information on the World Cup grouped by countries. Hence, the secondary table only has 24 rows with data corresponding to each of the 24 participating teams). \n",
    "\n",
    "    The report concludes that players with higher CAPS scored more goals throughout their careers compared to those players with lower CAPS. There is a 0.66 correlation between the players' CAPS and the number of goals scored. The data also shows that teams with higher CAPS scored, on average, more goals in the World Cup than those with lower CAPS. The correlation coefficient of 0.60 shows a mildly strong correlation between team total CAPS and goals. Similarly, countries with higher CAPS made it further in the World Cup than those with lower CAPS. Teams with above-average CAPS made it to semi-finals and the final, while teams with below-average CAPS made it to Quarter Finals at most. Lastly, the position that scored the most goals across all players is Forward (FW).\n",
    "    "
   ]
  },
  {
   "cell_type": "markdown",
   "id": "10693459-1c54-48fb-ba7f-9f2c7e827325",
   "metadata": {},
   "source": [
    "#### RESEARCH QUESTIONS\n",
    "\n",
    "    1. Did players with higher CAPS score more goals throughout their careers than those with lower CAPS?\n",
    "    2. Did teams with higher CAPS score more goals than those with lower CAPS during the 2019 World Cup?\n",
    "    3. Did countries with higher CAPS make it further in the World Cup compared to those with lower CAPS?\n",
    "    4. Is there a position that notably scored the most goals across all players?\n"
   ]
  },
  {
   "cell_type": "markdown",
   "id": "b17bf75a-284d-4305-892a-c98fe810ea29",
   "metadata": {},
   "source": [
    "#### DATA DICTIONARY"
   ]
  },
  {
   "cell_type": "code",
   "execution_count": 2,
   "id": "9083aaca-917e-410e-a129-c24b24cd21b9",
   "metadata": {
    "tags": []
   },
   "outputs": [
    {
     "data": {
      "text/plain": [
       "'Position in which each player plays. In this dataset, the positions are: MF (Midfield), GK (Goalkeeper), FW (Forward), DF (Defense). Example: Defense. Data Type: Categorical.'"
      ]
     },
     "execution_count": 2,
     "metadata": {},
     "output_type": "execute_result"
    }
   ],
   "source": [
    "# Create Data Dictionary\n",
    "\n",
    "#Please use data dictionary at any point of the report to find defitions of columns and their data types.\n",
    "#Simply type \"dictionary.get(\"InsertColumnNameHere\")\n",
    "\n",
    "dictionary = dict(Country='Country Name. Example: Brazil. Data type: Categorical ', \n",
    "                  Position='Position in which each player plays. In this dataset, the positions are: MF (Midfield), GK (Goalkeeper), FW (Forward), DF (Defense). Example: Defense. Data Type: Categorical.',\n",
    "                  Player='Players Name. Example: Sophia Smith. Data type: Categorical ',\n",
    "                  Age='Players Age. Example: 24. Data Type: Numerical',\n",
    "                  CAPS='Number of appearances a player has made with their senior national team. According to FIFAs regulations handbook, caps are only awarded in International A games, which are the following: World Cup games, World Cup qualifiers, continental competitions and its qualifying games, friendly games between senior national teams and Olympic games and its qualifiers. Example: 250. Data Type: Numerical',\n",
    "                  Num_Goals='Sum of goals the player has scored in their professional career. Does not only include goals from the 2019 World Cup. Example: 10. Data Type: Numerical',\n",
    "                  Year='Year of World Cup that the data corresponds to. Example: 2019. Data type: Numerical',\n",
    "                  Country_2='Country Name. Example: Brazil. Data type: Categorical',\n",
    "                  Year_2='Year of World Cup that the data corresponds to. Example: 2019. Data type: numerical',\n",
    "                  Team_Goals='Total number of goals scored by the country in the 2019 World Cup. Example: 25. Data type: Numerical',\n",
    "                  Team_CAPS='Total amount of CAPS per team as of 2019. It is a sum of the CAPS of each of its individual players. Example: 1842. Data type: Numerical',\n",
    "                  Highest_Stage_Achieved='Highest stage that the country got to during the 2019 World Cup. The stages have the following hierarchical order: Group, Round of 16, Quarter Finals, Semi Finals, Final. Example: Final. Data type: Categorical',\n",
    "                  Stage_Num='Numerical representation of the highest stage achieved by each country. Values are recoded from column \"Highest_Stage_Achieved\". The values are as follows: Final=10, Semi Final=8, Quarter Final=6, Round of 16=4, Group=2. Example: 10. Data type: numerical',\n",
    "                 )\n",
    "\n",
    "dictionary.get(\"Position\")"
   ]
  },
  {
   "cell_type": "markdown",
   "id": "a927ead1-1e55-4e98-8172-3512dc1a5617",
   "metadata": {},
   "source": [
    "### PART 1: \n",
    "#### THE DATA"
   ]
  },
  {
   "cell_type": "markdown",
   "id": "c1ef584d-e1d5-44bb-ad97-350fa4a077b0",
   "metadata": {},
   "source": [
    "#### 1.1 Reading and merging datasets"
   ]
  },
  {
   "cell_type": "code",
   "execution_count": 3,
   "id": "ad731877-62f3-49da-aba4-e18eaa73c0dd",
   "metadata": {
    "tags": []
   },
   "outputs": [
    {
     "data": {
      "text/html": [
       "<div>\n",
       "<style scoped>\n",
       "    .dataframe tbody tr th:only-of-type {\n",
       "        vertical-align: middle;\n",
       "    }\n",
       "\n",
       "    .dataframe tbody tr th {\n",
       "        vertical-align: top;\n",
       "    }\n",
       "\n",
       "    .dataframe thead th {\n",
       "        text-align: right;\n",
       "    }\n",
       "</style>\n",
       "<table border=\"1\" class=\"dataframe\">\n",
       "  <thead>\n",
       "    <tr style=\"text-align: right;\">\n",
       "      <th></th>\n",
       "      <th>Country</th>\n",
       "      <th>Position</th>\n",
       "      <th>Player</th>\n",
       "      <th>Age</th>\n",
       "      <th>CAPS</th>\n",
       "      <th>NumGoals</th>\n",
       "      <th>Year</th>\n",
       "    </tr>\n",
       "  </thead>\n",
       "  <tbody>\n",
       "    <tr>\n",
       "      <th>0</th>\n",
       "      <td>USA</td>\n",
       "      <td>GK</td>\n",
       "      <td>Alyssa Naeher</td>\n",
       "      <td>31</td>\n",
       "      <td>43.0</td>\n",
       "      <td>0.0</td>\n",
       "      <td>2019</td>\n",
       "    </tr>\n",
       "    <tr>\n",
       "      <th>1</th>\n",
       "      <td>USA</td>\n",
       "      <td>FW</td>\n",
       "      <td>Mallory Pugh</td>\n",
       "      <td>21</td>\n",
       "      <td>50.0</td>\n",
       "      <td>15.0</td>\n",
       "      <td>2019</td>\n",
       "    </tr>\n",
       "    <tr>\n",
       "      <th>2</th>\n",
       "      <td>USA</td>\n",
       "      <td>MF</td>\n",
       "      <td>Sam Mewis</td>\n",
       "      <td>26</td>\n",
       "      <td>47.0</td>\n",
       "      <td>9.0</td>\n",
       "      <td>2019</td>\n",
       "    </tr>\n",
       "    <tr>\n",
       "      <th>3</th>\n",
       "      <td>USA</td>\n",
       "      <td>DF</td>\n",
       "      <td>Becky Sauerbrunn</td>\n",
       "      <td>34</td>\n",
       "      <td>155.0</td>\n",
       "      <td>0.0</td>\n",
       "      <td>2019</td>\n",
       "    </tr>\n",
       "    <tr>\n",
       "      <th>4</th>\n",
       "      <td>USA</td>\n",
       "      <td>DF</td>\n",
       "      <td>Kelley O'Hara</td>\n",
       "      <td>30</td>\n",
       "      <td>115.0</td>\n",
       "      <td>2.0</td>\n",
       "      <td>2019</td>\n",
       "    </tr>\n",
       "  </tbody>\n",
       "</table>\n",
       "</div>"
      ],
      "text/plain": [
       "  Country Position            Player  Age   CAPS  NumGoals  Year\n",
       "0     USA       GK     Alyssa Naeher   31   43.0       0.0  2019\n",
       "1     USA       FW      Mallory Pugh   21   50.0      15.0  2019\n",
       "2     USA       MF         Sam Mewis   26   47.0       9.0  2019\n",
       "3     USA       DF  Becky Sauerbrunn   34  155.0       0.0  2019\n",
       "4     USA       DF     Kelley O'Hara   30  115.0       2.0  2019"
      ]
     },
     "execution_count": 3,
     "metadata": {},
     "output_type": "execute_result"
    }
   ],
   "source": [
    "# Read dataset #1 - Women Squads\n",
    "table1 = pd.read_csv('Women Squads.csv', names=['Squad Nro.', 'Country', 'Position', 'Player', 'DOB', 'Age', 'CAPS', 'NumGoals', 'Club'], \n",
    "                     skiprows=[0],\n",
    "                     encoding='latin-1')\n",
    "table1 = table1.drop('Club', axis=1)\n",
    "table1 = table1.drop('Squad Nro.', axis=1)\n",
    "table1 = table1.drop('DOB', axis=1)\n",
    "\n",
    "# Creating a dataframe out of the table1\n",
    "df1 = DataFrame(table1) \n",
    "df1['Year'] = '2019'\n",
    "\n",
    "# Recode values from US to USA to standardize data across datasets\n",
    "df1.iloc[0:23, 0] = 'USA'\n",
    "df1.head()"
   ]
  },
  {
   "cell_type": "code",
   "execution_count": 4,
   "id": "9c718b91-875e-4e5f-892d-c5a723ab476c",
   "metadata": {
    "tags": []
   },
   "outputs": [
    {
     "data": {
      "text/html": [
       "<div>\n",
       "<style scoped>\n",
       "    .dataframe tbody tr th:only-of-type {\n",
       "        vertical-align: middle;\n",
       "    }\n",
       "\n",
       "    .dataframe tbody tr th {\n",
       "        vertical-align: top;\n",
       "    }\n",
       "\n",
       "    .dataframe thead th {\n",
       "        text-align: right;\n",
       "    }\n",
       "</style>\n",
       "<table border=\"1\" class=\"dataframe\">\n",
       "  <thead>\n",
       "    <tr style=\"text-align: right;\">\n",
       "      <th></th>\n",
       "      <th>Country</th>\n",
       "      <th>Year</th>\n",
       "      <th>Age</th>\n",
       "      <th>Team_Goals</th>\n",
       "      <th>Team_Yellow_Cards</th>\n",
       "      <th>Team_Red_Cards</th>\n",
       "    </tr>\n",
       "  </thead>\n",
       "  <tbody>\n",
       "    <tr>\n",
       "      <th>0</th>\n",
       "      <td>Argentina</td>\n",
       "      <td>2019</td>\n",
       "      <td>26.8</td>\n",
       "      <td>2</td>\n",
       "      <td>3.0</td>\n",
       "      <td>0.0</td>\n",
       "    </tr>\n",
       "    <tr>\n",
       "      <th>1</th>\n",
       "      <td>Australia</td>\n",
       "      <td>2019</td>\n",
       "      <td>25.4</td>\n",
       "      <td>8</td>\n",
       "      <td>2.0</td>\n",
       "      <td>0.0</td>\n",
       "    </tr>\n",
       "    <tr>\n",
       "      <th>2</th>\n",
       "      <td>Brazil</td>\n",
       "      <td>2019</td>\n",
       "      <td>29.7</td>\n",
       "      <td>7</td>\n",
       "      <td>7.0</td>\n",
       "      <td>0.0</td>\n",
       "    </tr>\n",
       "    <tr>\n",
       "      <th>3</th>\n",
       "      <td>Cameroon</td>\n",
       "      <td>2019</td>\n",
       "      <td>27.7</td>\n",
       "      <td>3</td>\n",
       "      <td>6.0</td>\n",
       "      <td>0.0</td>\n",
       "    </tr>\n",
       "    <tr>\n",
       "      <th>4</th>\n",
       "      <td>Canada</td>\n",
       "      <td>2019</td>\n",
       "      <td>27.0</td>\n",
       "      <td>4</td>\n",
       "      <td>2.0</td>\n",
       "      <td>0.0</td>\n",
       "    </tr>\n",
       "  </tbody>\n",
       "</table>\n",
       "</div>"
      ],
      "text/plain": [
       "     Country  Year   Age  Team_Goals  Team_Yellow_Cards  Team_Red_Cards\n",
       "0  Argentina  2019  26.8           2                3.0             0.0\n",
       "1  Australia  2019  25.4           8                2.0             0.0\n",
       "2     Brazil  2019  29.7           7                7.0             0.0\n",
       "3   Cameroon  2019  27.7           3                6.0             0.0\n",
       "4     Canada  2019  27.0           4                2.0             0.0"
      ]
     },
     "execution_count": 4,
     "metadata": {},
     "output_type": "execute_result"
    }
   ],
   "source": [
    "# Read dataset #2 - FIFA Womens World Cup Results\n",
    "read2 = pd.read_csv('FIFA Womens World Cup Results.csv')\n",
    "\n",
    "#Create DataFrame\n",
    "df2 = pd.DataFrame(read2)\n",
    "df2.drop(df2.columns[[0,3,5,6,8,9,10,11]], axis=1, inplace=True)\n",
    "df3 = df2.rename(columns={\"squad\":\"Country\", \"year\":\"Year\", \"age\":\"Age\", \"goals\":\"Team_Goals\",\"yellow_cards\":\"Team_Yellow_Cards\", \"red_cards\":\"Team_Red_Cards\"})\n",
    "df3['Year'] = df3['Year'].astype(str)\n",
    "df3.head()"
   ]
  },
  {
   "cell_type": "code",
   "execution_count": 5,
   "id": "8cf9cfbb-0289-40c8-9a2b-84726be905e3",
   "metadata": {
    "tags": []
   },
   "outputs": [
    {
     "data": {
      "text/html": [
       "<div>\n",
       "<style scoped>\n",
       "    .dataframe tbody tr th:only-of-type {\n",
       "        vertical-align: middle;\n",
       "    }\n",
       "\n",
       "    .dataframe tbody tr th {\n",
       "        vertical-align: top;\n",
       "    }\n",
       "\n",
       "    .dataframe thead th {\n",
       "        text-align: right;\n",
       "    }\n",
       "</style>\n",
       "<table border=\"1\" class=\"dataframe\">\n",
       "  <thead>\n",
       "    <tr style=\"text-align: right;\">\n",
       "      <th></th>\n",
       "      <th>Country</th>\n",
       "      <th>Year</th>\n",
       "      <th>Age</th>\n",
       "      <th>Team_Goals</th>\n",
       "      <th>Team_Yellow_Cards</th>\n",
       "      <th>Team_Red_Cards</th>\n",
       "    </tr>\n",
       "  </thead>\n",
       "  <tbody>\n",
       "    <tr>\n",
       "      <th>130</th>\n",
       "      <td>Japan</td>\n",
       "      <td>1991</td>\n",
       "      <td>24.3</td>\n",
       "      <td>0</td>\n",
       "      <td>NaN</td>\n",
       "      <td>NaN</td>\n",
       "    </tr>\n",
       "    <tr>\n",
       "      <th>131</th>\n",
       "      <td>New Zealand</td>\n",
       "      <td>1991</td>\n",
       "      <td>25.5</td>\n",
       "      <td>1</td>\n",
       "      <td>NaN</td>\n",
       "      <td>NaN</td>\n",
       "    </tr>\n",
       "    <tr>\n",
       "      <th>132</th>\n",
       "      <td>Nigeria</td>\n",
       "      <td>1991</td>\n",
       "      <td>18.2</td>\n",
       "      <td>0</td>\n",
       "      <td>NaN</td>\n",
       "      <td>NaN</td>\n",
       "    </tr>\n",
       "    <tr>\n",
       "      <th>133</th>\n",
       "      <td>Norway</td>\n",
       "      <td>1991</td>\n",
       "      <td>24.1</td>\n",
       "      <td>13</td>\n",
       "      <td>NaN</td>\n",
       "      <td>NaN</td>\n",
       "    </tr>\n",
       "    <tr>\n",
       "      <th>134</th>\n",
       "      <td>Sweden</td>\n",
       "      <td>1991</td>\n",
       "      <td>25.4</td>\n",
       "      <td>17</td>\n",
       "      <td>NaN</td>\n",
       "      <td>NaN</td>\n",
       "    </tr>\n",
       "  </tbody>\n",
       "</table>\n",
       "</div>"
      ],
      "text/plain": [
       "         Country  Year   Age  Team_Goals  Team_Yellow_Cards  Team_Red_Cards\n",
       "130        Japan  1991  24.3           0                NaN             NaN\n",
       "131  New Zealand  1991  25.5           1                NaN             NaN\n",
       "132      Nigeria  1991  18.2           0                NaN             NaN\n",
       "133       Norway  1991  24.1          13                NaN             NaN\n",
       "134       Sweden  1991  25.4          17                NaN             NaN"
      ]
     },
     "execution_count": 5,
     "metadata": {},
     "output_type": "execute_result"
    }
   ],
   "source": [
    "# df3 contains historical information regarding World Cups, as far as 1991. See below\n",
    "df3.iloc[130:135, 0:]"
   ]
  },
  {
   "cell_type": "code",
   "execution_count": 6,
   "id": "0a25d9d4-47f7-4e7e-860f-cbee9b2d64c6",
   "metadata": {
    "tags": []
   },
   "outputs": [
    {
     "data": {
      "text/html": [
       "<div>\n",
       "<style scoped>\n",
       "    .dataframe tbody tr th:only-of-type {\n",
       "        vertical-align: middle;\n",
       "    }\n",
       "\n",
       "    .dataframe tbody tr th {\n",
       "        vertical-align: top;\n",
       "    }\n",
       "\n",
       "    .dataframe thead th {\n",
       "        text-align: right;\n",
       "    }\n",
       "</style>\n",
       "<table border=\"1\" class=\"dataframe\">\n",
       "  <thead>\n",
       "    <tr style=\"text-align: right;\">\n",
       "      <th></th>\n",
       "      <th>Country</th>\n",
       "      <th>Year</th>\n",
       "      <th>Team_Goals</th>\n",
       "    </tr>\n",
       "  </thead>\n",
       "  <tbody>\n",
       "    <tr>\n",
       "      <th>0</th>\n",
       "      <td>Argentina</td>\n",
       "      <td>2019</td>\n",
       "      <td>2</td>\n",
       "    </tr>\n",
       "    <tr>\n",
       "      <th>1</th>\n",
       "      <td>Australia</td>\n",
       "      <td>2019</td>\n",
       "      <td>8</td>\n",
       "    </tr>\n",
       "    <tr>\n",
       "      <th>2</th>\n",
       "      <td>Brazil</td>\n",
       "      <td>2019</td>\n",
       "      <td>7</td>\n",
       "    </tr>\n",
       "    <tr>\n",
       "      <th>3</th>\n",
       "      <td>Cameroon</td>\n",
       "      <td>2019</td>\n",
       "      <td>3</td>\n",
       "    </tr>\n",
       "    <tr>\n",
       "      <th>4</th>\n",
       "      <td>Canada</td>\n",
       "      <td>2019</td>\n",
       "      <td>4</td>\n",
       "    </tr>\n",
       "  </tbody>\n",
       "</table>\n",
       "</div>"
      ],
      "text/plain": [
       "     Country  Year  Team_Goals\n",
       "0  Argentina  2019           2\n",
       "1  Australia  2019           8\n",
       "2     Brazil  2019           7\n",
       "3   Cameroon  2019           3\n",
       "4     Canada  2019           4"
      ]
     },
     "execution_count": 6,
     "metadata": {},
     "output_type": "execute_result"
    }
   ],
   "source": [
    "# Since this report focuses on 2019, we will get rid of all years that are not 2019\n",
    "df4 = df3.drop(df3.index[24:])\n",
    "\n",
    "# Dropping Age, Yellow and Red cards columns becase they are not useful for the analysis of research questions\n",
    "df5 = df4.drop(df4.columns[[2, 4, 5]], axis=1)\n",
    "df5.head()"
   ]
  },
  {
   "cell_type": "code",
   "execution_count": 7,
   "id": "dc8ef77b-3310-4f44-8c53-fc4bccbee59d",
   "metadata": {
    "tags": []
   },
   "outputs": [
    {
     "data": {
      "text/html": [
       "<div>\n",
       "<style scoped>\n",
       "    .dataframe tbody tr th:only-of-type {\n",
       "        vertical-align: middle;\n",
       "    }\n",
       "\n",
       "    .dataframe tbody tr th {\n",
       "        vertical-align: top;\n",
       "    }\n",
       "\n",
       "    .dataframe thead th {\n",
       "        text-align: right;\n",
       "    }\n",
       "</style>\n",
       "<table border=\"1\" class=\"dataframe\">\n",
       "  <thead>\n",
       "    <tr style=\"text-align: right;\">\n",
       "      <th></th>\n",
       "      <th>Country</th>\n",
       "      <th>Year</th>\n",
       "      <th>Team_Goals</th>\n",
       "      <th>CAPS</th>\n",
       "    </tr>\n",
       "  </thead>\n",
       "  <tbody>\n",
       "    <tr>\n",
       "      <th>0</th>\n",
       "      <td>Argentina</td>\n",
       "      <td>2019</td>\n",
       "      <td>2.0</td>\n",
       "      <td>443.0</td>\n",
       "    </tr>\n",
       "    <tr>\n",
       "      <th>1</th>\n",
       "      <td>Australia</td>\n",
       "      <td>2019</td>\n",
       "      <td>8.0</td>\n",
       "      <td>1276.0</td>\n",
       "    </tr>\n",
       "  </tbody>\n",
       "</table>\n",
       "</div>"
      ],
      "text/plain": [
       "     Country  Year  Team_Goals    CAPS\n",
       "0  Argentina  2019         2.0   443.0\n",
       "1  Australia  2019         8.0  1276.0"
      ]
     },
     "execution_count": 7,
     "metadata": {},
     "output_type": "execute_result"
    }
   ],
   "source": [
    "# Creating variable to store sum of CAPS by Team, which will be needed for the analysis\n",
    "CAPS_c = pd.DataFrame(df1.groupby(by=[\"Country\"]).CAPS.sum())\n",
    "\n",
    "# Merge variable with DataFrame df5\n",
    "CAPS_merge = pd.merge(df5, CAPS_c, how='outer', on='Country')\n",
    "CAPS_merge.head(2)"
   ]
  },
  {
   "cell_type": "code",
   "execution_count": 8,
   "id": "e7922429-3fa6-49ae-a182-b8b7fffc792c",
   "metadata": {
    "tags": []
   },
   "outputs": [
    {
     "data": {
      "text/html": [
       "<div>\n",
       "<style scoped>\n",
       "    .dataframe tbody tr th:only-of-type {\n",
       "        vertical-align: middle;\n",
       "    }\n",
       "\n",
       "    .dataframe tbody tr th {\n",
       "        vertical-align: top;\n",
       "    }\n",
       "\n",
       "    .dataframe thead th {\n",
       "        text-align: right;\n",
       "    }\n",
       "</style>\n",
       "<table border=\"1\" class=\"dataframe\">\n",
       "  <thead>\n",
       "    <tr style=\"text-align: right;\">\n",
       "      <th></th>\n",
       "      <th>Country_2</th>\n",
       "      <th>Year_2</th>\n",
       "      <th>Team_Goals</th>\n",
       "      <th>Team_CAPS</th>\n",
       "      <th>Highest_Stage_Achieved</th>\n",
       "      <th>Stage_Num</th>\n",
       "    </tr>\n",
       "  </thead>\n",
       "  <tbody>\n",
       "    <tr>\n",
       "      <th>0</th>\n",
       "      <td>Argentina</td>\n",
       "      <td>2019</td>\n",
       "      <td>2.0</td>\n",
       "      <td>443.0</td>\n",
       "      <td>Group</td>\n",
       "      <td>2</td>\n",
       "    </tr>\n",
       "    <tr>\n",
       "      <th>1</th>\n",
       "      <td>Australia</td>\n",
       "      <td>2019</td>\n",
       "      <td>8.0</td>\n",
       "      <td>1276.0</td>\n",
       "      <td>Round of 16</td>\n",
       "      <td>4</td>\n",
       "    </tr>\n",
       "    <tr>\n",
       "      <th>2</th>\n",
       "      <td>Brazil</td>\n",
       "      <td>2019</td>\n",
       "      <td>7.0</td>\n",
       "      <td>1039.0</td>\n",
       "      <td>Round of 16</td>\n",
       "      <td>4</td>\n",
       "    </tr>\n",
       "    <tr>\n",
       "      <th>3</th>\n",
       "      <td>Cameroon</td>\n",
       "      <td>2019</td>\n",
       "      <td>3.0</td>\n",
       "      <td>667.0</td>\n",
       "      <td>Round of 16</td>\n",
       "      <td>4</td>\n",
       "    </tr>\n",
       "    <tr>\n",
       "      <th>4</th>\n",
       "      <td>Canada</td>\n",
       "      <td>2019</td>\n",
       "      <td>4.0</td>\n",
       "      <td>1369.0</td>\n",
       "      <td>Round of 16</td>\n",
       "      <td>4</td>\n",
       "    </tr>\n",
       "  </tbody>\n",
       "</table>\n",
       "</div>"
      ],
      "text/plain": [
       "   Country_2 Year_2  Team_Goals  Team_CAPS Highest_Stage_Achieved  Stage_Num\n",
       "0  Argentina   2019         2.0      443.0                  Group          2\n",
       "1  Australia   2019         8.0     1276.0            Round of 16          4\n",
       "2     Brazil   2019         7.0     1039.0            Round of 16          4\n",
       "3   Cameroon   2019         3.0      667.0            Round of 16          4\n",
       "4     Canada   2019         4.0     1369.0            Round of 16          4"
      ]
     },
     "execution_count": 8,
     "metadata": {},
     "output_type": "execute_result"
    }
   ],
   "source": [
    "# Read dataset #3 - '2019WorldCup_Results.csv'\n",
    "read3 = pd.read_csv('2019WorldCup_Results.csv', names=['Country', 'Highest_Stage_Achieved'])\n",
    "dframe2 = pd.DataFrame(read3)\n",
    "\n",
    "# Merging to previous dataset\n",
    "merge3 = pd.merge(CAPS_merge, dframe2, left_on='Country', right_on='Country')\n",
    "\n",
    "# The \"Highest_Stage_Achieved\" column will be used in one the research questions. However, the stages need to be recoded as numerical values for the analysis\n",
    "# Recoding \"Highest_Stage_Achieved\" as numerical values and storing recoded data in new column called \"Stage_Num\"\n",
    "\n",
    "merge3['Stage_Num'] = merge3['Highest_Stage_Achieved'].replace(to_replace=['Final', 'Semi Final', 'Quarter Final', 'Round of 16', 'Group'], \n",
    "                                                         value=[10, 8, 6, 4, 2])\n",
    "\n",
    "# Renaming columns\n",
    "merge4 = merge3.rename(columns={\"Country\":\"Country_2\", \"Year\":\"Year_2\", \"CAPS\":\"Team_CAPS\"})\n",
    "merge4.head()"
   ]
  },
  {
   "cell_type": "code",
   "execution_count": 9,
   "id": "3f9391e1-dc33-4519-9d4f-b1cf2fe97ab8",
   "metadata": {
    "tags": []
   },
   "outputs": [
    {
     "data": {
      "text/html": [
       "<div>\n",
       "<style scoped>\n",
       "    .dataframe tbody tr th:only-of-type {\n",
       "        vertical-align: middle;\n",
       "    }\n",
       "\n",
       "    .dataframe tbody tr th {\n",
       "        vertical-align: top;\n",
       "    }\n",
       "\n",
       "    .dataframe thead th {\n",
       "        text-align: right;\n",
       "    }\n",
       "</style>\n",
       "<table border=\"1\" class=\"dataframe\">\n",
       "  <thead>\n",
       "    <tr style=\"text-align: right;\">\n",
       "      <th></th>\n",
       "      <th>Country</th>\n",
       "      <th>Position</th>\n",
       "      <th>Player</th>\n",
       "      <th>Age</th>\n",
       "      <th>CAPS</th>\n",
       "      <th>NumGoals</th>\n",
       "      <th>Year</th>\n",
       "      <th>Country_2</th>\n",
       "      <th>Team_Goals</th>\n",
       "      <th>Team_CAPS</th>\n",
       "      <th>Highest_Stage_Achieved</th>\n",
       "      <th>Stage_Num</th>\n",
       "    </tr>\n",
       "  </thead>\n",
       "  <tbody>\n",
       "    <tr>\n",
       "      <th>0</th>\n",
       "      <td>USA</td>\n",
       "      <td>GK</td>\n",
       "      <td>Alyssa Naeher</td>\n",
       "      <td>31</td>\n",
       "      <td>43.0</td>\n",
       "      <td>0.0</td>\n",
       "      <td>2019</td>\n",
       "      <td>Argentina</td>\n",
       "      <td>2.0</td>\n",
       "      <td>443.0</td>\n",
       "      <td>Group</td>\n",
       "      <td>2.0</td>\n",
       "    </tr>\n",
       "    <tr>\n",
       "      <th>1</th>\n",
       "      <td>USA</td>\n",
       "      <td>FW</td>\n",
       "      <td>Mallory Pugh</td>\n",
       "      <td>21</td>\n",
       "      <td>50.0</td>\n",
       "      <td>15.0</td>\n",
       "      <td>2019</td>\n",
       "      <td>Australia</td>\n",
       "      <td>8.0</td>\n",
       "      <td>1276.0</td>\n",
       "      <td>Round of 16</td>\n",
       "      <td>4.0</td>\n",
       "    </tr>\n",
       "    <tr>\n",
       "      <th>2</th>\n",
       "      <td>USA</td>\n",
       "      <td>MF</td>\n",
       "      <td>Sam Mewis</td>\n",
       "      <td>26</td>\n",
       "      <td>47.0</td>\n",
       "      <td>9.0</td>\n",
       "      <td>2019</td>\n",
       "      <td>Brazil</td>\n",
       "      <td>7.0</td>\n",
       "      <td>1039.0</td>\n",
       "      <td>Round of 16</td>\n",
       "      <td>4.0</td>\n",
       "    </tr>\n",
       "    <tr>\n",
       "      <th>3</th>\n",
       "      <td>USA</td>\n",
       "      <td>DF</td>\n",
       "      <td>Becky Sauerbrunn</td>\n",
       "      <td>34</td>\n",
       "      <td>155.0</td>\n",
       "      <td>0.0</td>\n",
       "      <td>2019</td>\n",
       "      <td>Cameroon</td>\n",
       "      <td>3.0</td>\n",
       "      <td>667.0</td>\n",
       "      <td>Round of 16</td>\n",
       "      <td>4.0</td>\n",
       "    </tr>\n",
       "    <tr>\n",
       "      <th>4</th>\n",
       "      <td>USA</td>\n",
       "      <td>DF</td>\n",
       "      <td>Kelley O'Hara</td>\n",
       "      <td>30</td>\n",
       "      <td>115.0</td>\n",
       "      <td>2.0</td>\n",
       "      <td>2019</td>\n",
       "      <td>Canada</td>\n",
       "      <td>4.0</td>\n",
       "      <td>1369.0</td>\n",
       "      <td>Round of 16</td>\n",
       "      <td>4.0</td>\n",
       "    </tr>\n",
       "  </tbody>\n",
       "</table>\n",
       "</div>"
      ],
      "text/plain": [
       "  Country Position            Player  Age   CAPS  NumGoals  Year  Country_2  \\\n",
       "0     USA       GK     Alyssa Naeher   31   43.0       0.0  2019  Argentina   \n",
       "1     USA       FW      Mallory Pugh   21   50.0      15.0  2019  Australia   \n",
       "2     USA       MF         Sam Mewis   26   47.0       9.0  2019     Brazil   \n",
       "3     USA       DF  Becky Sauerbrunn   34  155.0       0.0  2019   Cameroon   \n",
       "4     USA       DF     Kelley O'Hara   30  115.0       2.0  2019     Canada   \n",
       "\n",
       "   Team_Goals  Team_CAPS Highest_Stage_Achieved  Stage_Num  \n",
       "0         2.0      443.0                  Group        2.0  \n",
       "1         8.0     1276.0            Round of 16        4.0  \n",
       "2         7.0     1039.0            Round of 16        4.0  \n",
       "3         3.0      667.0            Round of 16        4.0  \n",
       "4         4.0     1369.0            Round of 16        4.0  "
      ]
     },
     "execution_count": 9,
     "metadata": {},
     "output_type": "execute_result"
    }
   ],
   "source": [
    "# Creating Final DataFrame\n",
    "\n",
    "ct = pd.concat([df1, merge4], axis=\"columns\")\n",
    "\n",
    "# Drop second year column\n",
    "ct = ct.drop('Year_2', axis=1)\n",
    "\n",
    "# Please note - the \"Country_2\" column marks the start of the secondary table. Recall that the secondary table contains data of the 2019 World Cup grouped by country\n",
    "# All remaining columns will be useful for analysis. \n",
    "\n",
    "ct.head()"
   ]
  },
  {
   "cell_type": "markdown",
   "id": "a839f6fd-389d-47fe-b51b-caa8eb49ed16",
   "metadata": {
    "tags": []
   },
   "source": [
    "#### 1.2 Cleaning Data"
   ]
  },
  {
   "cell_type": "code",
   "execution_count": 10,
   "id": "9db810d4-b505-4805-8eb7-ac2a2865f919",
   "metadata": {},
   "outputs": [
    {
     "name": "stdout",
     "output_type": "stream",
     "text": [
      "<class 'pandas.core.frame.DataFrame'>\n",
      "RangeIndex: 552 entries, 0 to 551\n",
      "Data columns (total 12 columns):\n",
      " #   Column                  Non-Null Count  Dtype  \n",
      "---  ------                  --------------  -----  \n",
      " 0   Country                 552 non-null    object \n",
      " 1   Position                552 non-null    object \n",
      " 2   Player                  552 non-null    object \n",
      " 3   Age                     552 non-null    int64  \n",
      " 4   CAPS                    520 non-null    float64\n",
      " 5   NumGoals                520 non-null    float64\n",
      " 6   Year                    552 non-null    object \n",
      " 7   Country_2               24 non-null     object \n",
      " 8   Team_Goals              24 non-null     float64\n",
      " 9   Team_CAPS               23 non-null     float64\n",
      " 10  Highest_Stage_Achieved  24 non-null     object \n",
      " 11  Stage_Num               24 non-null     float64\n",
      "dtypes: float64(5), int64(1), object(6)\n",
      "memory usage: 51.9+ KB\n"
     ]
    }
   ],
   "source": [
    "# Gather information on the composition of the columns\n",
    "ct.info()"
   ]
  },
  {
   "cell_type": "markdown",
   "id": "aa0e7bcd-8c88-413c-8f49-d3014f5e334f",
   "metadata": {},
   "source": [
    "\n",
    "    From the results above, we can see that the dataset has 12 columns and between 23 and 552 rows. This is because the columns with 552 rows contain the information for each of the 23 players of all 24 teams (the main table), and the columns with 24 rows contain stats by countries (the secondary table). \n",
    "    \n",
    "    The \"Country\", \"Position\", and \"Player\" columns have \"object\" as their data type, which means they contain categorical data. \"Age\" data type is int64, which means the columns contain numerical data. Lastly, the \"CAPS\" and \"NumGoals\" columns have float64 data type, which means they contain numerical values as decimals. The columns \"CAPS\" and \"NumGoals\" have 520 observations, which is 32 less observations than the other columns. This means that there are missing values in those two columns. \n",
    "    \n",
    "    Lastly, all columns with 24 values need to be filled out with zeros to correct NULL values. The NULL values occur due to the discrepancy in number of observations between the main and secondary table (552 observations vs. 24)"
   ]
  },
  {
   "cell_type": "code",
   "execution_count": 11,
   "id": "3f81d9b1-4d39-4c23-b6db-9bf460279f00",
   "metadata": {
    "tags": []
   },
   "outputs": [
    {
     "data": {
      "text/html": [
       "<div>\n",
       "<style scoped>\n",
       "    .dataframe tbody tr th:only-of-type {\n",
       "        vertical-align: middle;\n",
       "    }\n",
       "\n",
       "    .dataframe tbody tr th {\n",
       "        vertical-align: top;\n",
       "    }\n",
       "\n",
       "    .dataframe thead th {\n",
       "        text-align: right;\n",
       "    }\n",
       "</style>\n",
       "<table border=\"1\" class=\"dataframe\">\n",
       "  <thead>\n",
       "    <tr style=\"text-align: right;\">\n",
       "      <th></th>\n",
       "      <th>Country</th>\n",
       "      <th>Position</th>\n",
       "      <th>Player</th>\n",
       "      <th>Age</th>\n",
       "      <th>CAPS</th>\n",
       "      <th>NumGoals</th>\n",
       "      <th>Year</th>\n",
       "      <th>Country_2</th>\n",
       "      <th>Team_Goals</th>\n",
       "      <th>Team_CAPS</th>\n",
       "      <th>Highest_Stage_Achieved</th>\n",
       "      <th>Stage_Num</th>\n",
       "    </tr>\n",
       "  </thead>\n",
       "  <tbody>\n",
       "    <tr>\n",
       "      <th>22</th>\n",
       "      <td>USA</td>\n",
       "      <td>FW</td>\n",
       "      <td>Christen Press</td>\n",
       "      <td>30</td>\n",
       "      <td>113.0</td>\n",
       "      <td>47.0</td>\n",
       "      <td>2019</td>\n",
       "      <td>Thailand</td>\n",
       "      <td>1.0</td>\n",
       "      <td>443.0</td>\n",
       "      <td>Group</td>\n",
       "      <td>2.0</td>\n",
       "    </tr>\n",
       "    <tr>\n",
       "      <th>23</th>\n",
       "      <td>Thailand</td>\n",
       "      <td>GK</td>\n",
       "      <td>Waraporn Boonsing</td>\n",
       "      <td>29</td>\n",
       "      <td>87.0</td>\n",
       "      <td>0.0</td>\n",
       "      <td>2019</td>\n",
       "      <td>USA</td>\n",
       "      <td>25.0</td>\n",
       "      <td>1842.0</td>\n",
       "      <td>Final</td>\n",
       "      <td>10.0</td>\n",
       "    </tr>\n",
       "    <tr>\n",
       "      <th>24</th>\n",
       "      <td>Thailand</td>\n",
       "      <td>DF</td>\n",
       "      <td>Kanjanaporn Saengkoon</td>\n",
       "      <td>22</td>\n",
       "      <td>0.0</td>\n",
       "      <td>0.0</td>\n",
       "      <td>2019</td>\n",
       "      <td>0.0</td>\n",
       "      <td>0.0</td>\n",
       "      <td>0.0</td>\n",
       "      <td>0.0</td>\n",
       "      <td>0.0</td>\n",
       "    </tr>\n",
       "    <tr>\n",
       "      <th>25</th>\n",
       "      <td>Thailand</td>\n",
       "      <td>DF</td>\n",
       "      <td>Natthakarn Chinwong</td>\n",
       "      <td>27</td>\n",
       "      <td>11.0</td>\n",
       "      <td>0.0</td>\n",
       "      <td>2019</td>\n",
       "      <td>0.0</td>\n",
       "      <td>0.0</td>\n",
       "      <td>0.0</td>\n",
       "      <td>0.0</td>\n",
       "      <td>0.0</td>\n",
       "    </tr>\n",
       "    <tr>\n",
       "      <th>26</th>\n",
       "      <td>Thailand</td>\n",
       "      <td>DF</td>\n",
       "      <td>Duangnapa Sritala</td>\n",
       "      <td>33</td>\n",
       "      <td>25.0</td>\n",
       "      <td>2.0</td>\n",
       "      <td>2019</td>\n",
       "      <td>0.0</td>\n",
       "      <td>0.0</td>\n",
       "      <td>0.0</td>\n",
       "      <td>0.0</td>\n",
       "      <td>0.0</td>\n",
       "    </tr>\n",
       "    <tr>\n",
       "      <th>27</th>\n",
       "      <td>Thailand</td>\n",
       "      <td>DF</td>\n",
       "      <td>Ainon Phancha</td>\n",
       "      <td>27</td>\n",
       "      <td>7.0</td>\n",
       "      <td>3.0</td>\n",
       "      <td>2019</td>\n",
       "      <td>0.0</td>\n",
       "      <td>0.0</td>\n",
       "      <td>0.0</td>\n",
       "      <td>0.0</td>\n",
       "      <td>0.0</td>\n",
       "    </tr>\n",
       "    <tr>\n",
       "      <th>28</th>\n",
       "      <td>Thailand</td>\n",
       "      <td>MF</td>\n",
       "      <td>Pikul Khueanpet</td>\n",
       "      <td>30</td>\n",
       "      <td>44.0</td>\n",
       "      <td>0.0</td>\n",
       "      <td>2019</td>\n",
       "      <td>0.0</td>\n",
       "      <td>0.0</td>\n",
       "      <td>0.0</td>\n",
       "      <td>0.0</td>\n",
       "      <td>0.0</td>\n",
       "    </tr>\n",
       "    <tr>\n",
       "      <th>29</th>\n",
       "      <td>Thailand</td>\n",
       "      <td>MF</td>\n",
       "      <td>Silawan Intamee</td>\n",
       "      <td>25</td>\n",
       "      <td>14.0</td>\n",
       "      <td>0.0</td>\n",
       "      <td>2019</td>\n",
       "      <td>0.0</td>\n",
       "      <td>0.0</td>\n",
       "      <td>0.0</td>\n",
       "      <td>0.0</td>\n",
       "      <td>0.0</td>\n",
       "    </tr>\n",
       "    <tr>\n",
       "      <th>30</th>\n",
       "      <td>Thailand</td>\n",
       "      <td>FW</td>\n",
       "      <td>Suchawadee Nildhamrong</td>\n",
       "      <td>22</td>\n",
       "      <td>17.0</td>\n",
       "      <td>12.0</td>\n",
       "      <td>2019</td>\n",
       "      <td>0.0</td>\n",
       "      <td>0.0</td>\n",
       "      <td>0.0</td>\n",
       "      <td>0.0</td>\n",
       "      <td>0.0</td>\n",
       "    </tr>\n",
       "    <tr>\n",
       "      <th>31</th>\n",
       "      <td>Thailand</td>\n",
       "      <td>DF</td>\n",
       "      <td>Warunee Phetwiset</td>\n",
       "      <td>28</td>\n",
       "      <td>44.0</td>\n",
       "      <td>0.0</td>\n",
       "      <td>2019</td>\n",
       "      <td>0.0</td>\n",
       "      <td>0.0</td>\n",
       "      <td>0.0</td>\n",
       "      <td>0.0</td>\n",
       "      <td>0.0</td>\n",
       "    </tr>\n",
       "    <tr>\n",
       "      <th>32</th>\n",
       "      <td>Thailand</td>\n",
       "      <td>DF</td>\n",
       "      <td>Sunisa Srangthaisong</td>\n",
       "      <td>31</td>\n",
       "      <td>27.0</td>\n",
       "      <td>2.0</td>\n",
       "      <td>2019</td>\n",
       "      <td>0.0</td>\n",
       "      <td>0.0</td>\n",
       "      <td>0.0</td>\n",
       "      <td>0.0</td>\n",
       "      <td>0.0</td>\n",
       "    </tr>\n",
       "  </tbody>\n",
       "</table>\n",
       "</div>"
      ],
      "text/plain": [
       "     Country Position                  Player  Age   CAPS  NumGoals  Year  \\\n",
       "22       USA       FW          Christen Press   30  113.0      47.0  2019   \n",
       "23  Thailand       GK       Waraporn Boonsing   29   87.0       0.0  2019   \n",
       "24  Thailand       DF   Kanjanaporn Saengkoon   22    0.0       0.0  2019   \n",
       "25  Thailand       DF     Natthakarn Chinwong   27   11.0       0.0  2019   \n",
       "26  Thailand       DF       Duangnapa Sritala   33   25.0       2.0  2019   \n",
       "27  Thailand       DF           Ainon Phancha   27    7.0       3.0  2019   \n",
       "28  Thailand       MF         Pikul Khueanpet   30   44.0       0.0  2019   \n",
       "29  Thailand       MF         Silawan Intamee   25   14.0       0.0  2019   \n",
       "30  Thailand       FW  Suchawadee Nildhamrong   22   17.0      12.0  2019   \n",
       "31  Thailand       DF       Warunee Phetwiset   28   44.0       0.0  2019   \n",
       "32  Thailand       DF    Sunisa Srangthaisong   31   27.0       2.0  2019   \n",
       "\n",
       "   Country_2  Team_Goals  Team_CAPS Highest_Stage_Achieved  Stage_Num  \n",
       "22  Thailand         1.0      443.0                  Group        2.0  \n",
       "23       USA        25.0     1842.0                  Final       10.0  \n",
       "24       0.0         0.0        0.0                    0.0        0.0  \n",
       "25       0.0         0.0        0.0                    0.0        0.0  \n",
       "26       0.0         0.0        0.0                    0.0        0.0  \n",
       "27       0.0         0.0        0.0                    0.0        0.0  \n",
       "28       0.0         0.0        0.0                    0.0        0.0  \n",
       "29       0.0         0.0        0.0                    0.0        0.0  \n",
       "30       0.0         0.0        0.0                    0.0        0.0  \n",
       "31       0.0         0.0        0.0                    0.0        0.0  \n",
       "32       0.0         0.0        0.0                    0.0        0.0  "
      ]
     },
     "execution_count": 11,
     "metadata": {},
     "output_type": "execute_result"
    }
   ],
   "source": [
    "# #Replacing NaN with '0.0' and making the change permanent in the DataFrame\n",
    "ct.fillna(0.0, inplace=True) \n",
    "\n",
    "# Visualize the rows 22-32 of the dataset to ensure that the NULL values have been taken care of. Recall that rows number 25 and after had missing values on the secondry table\n",
    "# If the data cleaning was effective, rows after 24 should now show zeros instead of NULL values\n",
    "ct.loc[22:32]"
   ]
  },
  {
   "cell_type": "code",
   "execution_count": 12,
   "id": "32479e1c-36ad-43f4-96fe-1ad4b47fe1fe",
   "metadata": {
    "tags": []
   },
   "outputs": [
    {
     "name": "stdout",
     "output_type": "stream",
     "text": [
      "<class 'pandas.core.frame.DataFrame'>\n",
      "RangeIndex: 552 entries, 0 to 551\n",
      "Data columns (total 12 columns):\n",
      " #   Column                  Non-Null Count  Dtype  \n",
      "---  ------                  --------------  -----  \n",
      " 0   Country                 552 non-null    object \n",
      " 1   Position                552 non-null    object \n",
      " 2   Player                  552 non-null    object \n",
      " 3   Age                     552 non-null    int64  \n",
      " 4   CAPS                    552 non-null    float64\n",
      " 5   NumGoals                552 non-null    float64\n",
      " 6   Year                    552 non-null    object \n",
      " 7   Country_2               552 non-null    object \n",
      " 8   Team_Goals              552 non-null    float64\n",
      " 9   Team_CAPS               552 non-null    float64\n",
      " 10  Highest_Stage_Achieved  552 non-null    object \n",
      " 11  Stage_Num               552 non-null    float64\n",
      "dtypes: float64(5), int64(1), object(6)\n",
      "memory usage: 51.9+ KB\n"
     ]
    }
   ],
   "source": [
    "# Checking that all NULL values have been recoded across the dataframe\n",
    "ct.info()"
   ]
  },
  {
   "cell_type": "markdown",
   "id": "67c186f9-563d-4c4b-896a-f5fc41716e88",
   "metadata": {},
   "source": [
    "    \n",
    "    Now, the dataframe has 12 columns and 552 rows across all columns, with no NULLs. All data types are consistent with what is needed for the analysis. \n"
   ]
  },
  {
   "cell_type": "code",
   "execution_count": 13,
   "id": "377a7254-4b13-4c5b-91d7-70d220c54d66",
   "metadata": {
    "tags": []
   },
   "outputs": [],
   "source": [
    "ct.to_csv('final version file_AnaliaColffer.csv')"
   ]
  },
  {
   "cell_type": "markdown",
   "id": "50476595-cda7-4ca7-bb86-867b7a90fd79",
   "metadata": {
    "tags": []
   },
   "source": [
    "### PART 2:\n",
    "#### DATA EXPLORATION"
   ]
  },
  {
   "cell_type": "markdown",
   "id": "bf103358-81aa-4a7c-a3c2-9a49cc8e20e0",
   "metadata": {
    "tags": []
   },
   "source": [
    "#### 2.1 Descriptive Statistics"
   ]
  },
  {
   "cell_type": "code",
   "execution_count": 14,
   "id": "7cc54b6d-0f98-433f-be8f-3a9e55aca0f8",
   "metadata": {
    "tags": []
   },
   "outputs": [
    {
     "data": {
      "text/html": [
       "<div>\n",
       "<style scoped>\n",
       "    .dataframe tbody tr th:only-of-type {\n",
       "        vertical-align: middle;\n",
       "    }\n",
       "\n",
       "    .dataframe tbody tr th {\n",
       "        vertical-align: top;\n",
       "    }\n",
       "\n",
       "    .dataframe thead th {\n",
       "        text-align: right;\n",
       "    }\n",
       "</style>\n",
       "<table border=\"1\" class=\"dataframe\">\n",
       "  <thead>\n",
       "    <tr style=\"text-align: right;\">\n",
       "      <th></th>\n",
       "      <th>Age</th>\n",
       "      <th>CAPS</th>\n",
       "      <th>NumGoals</th>\n",
       "    </tr>\n",
       "  </thead>\n",
       "  <tbody>\n",
       "    <tr>\n",
       "      <th>count</th>\n",
       "      <td>552.00</td>\n",
       "      <td>552.00</td>\n",
       "      <td>552.00</td>\n",
       "    </tr>\n",
       "    <tr>\n",
       "      <th>mean</th>\n",
       "      <td>26.05</td>\n",
       "      <td>41.13</td>\n",
       "      <td>6.92</td>\n",
       "    </tr>\n",
       "    <tr>\n",
       "      <th>std</th>\n",
       "      <td>4.06</td>\n",
       "      <td>43.60</td>\n",
       "      <td>15.18</td>\n",
       "    </tr>\n",
       "    <tr>\n",
       "      <th>min</th>\n",
       "      <td>16.00</td>\n",
       "      <td>0.00</td>\n",
       "      <td>0.00</td>\n",
       "    </tr>\n",
       "    <tr>\n",
       "      <th>25%</th>\n",
       "      <td>23.00</td>\n",
       "      <td>8.00</td>\n",
       "      <td>0.00</td>\n",
       "    </tr>\n",
       "    <tr>\n",
       "      <th>50%</th>\n",
       "      <td>26.00</td>\n",
       "      <td>26.00</td>\n",
       "      <td>1.00</td>\n",
       "    </tr>\n",
       "    <tr>\n",
       "      <th>75%</th>\n",
       "      <td>29.00</td>\n",
       "      <td>61.00</td>\n",
       "      <td>8.00</td>\n",
       "    </tr>\n",
       "    <tr>\n",
       "      <th>max</th>\n",
       "      <td>41.00</td>\n",
       "      <td>282.00</td>\n",
       "      <td>181.00</td>\n",
       "    </tr>\n",
       "  </tbody>\n",
       "</table>\n",
       "</div>"
      ],
      "text/plain": [
       "          Age    CAPS  NumGoals\n",
       "count  552.00  552.00    552.00\n",
       "mean    26.05   41.13      6.92\n",
       "std      4.06   43.60     15.18\n",
       "min     16.00    0.00      0.00\n",
       "25%     23.00    8.00      0.00\n",
       "50%     26.00   26.00      1.00\n",
       "75%     29.00   61.00      8.00\n",
       "max     41.00  282.00    181.00"
      ]
     },
     "execution_count": 14,
     "metadata": {},
     "output_type": "execute_result"
    }
   ],
   "source": [
    "# Get descriptive statistics on numerical columns for the main table\n",
    "round(ct[['Age','CAPS', 'NumGoals']].describe(),2)"
   ]
  },
  {
   "cell_type": "code",
   "execution_count": 15,
   "id": "aa79afb8-8d05-4a08-a147-d957b7cf15e0",
   "metadata": {
    "tags": []
   },
   "outputs": [
    {
     "data": {
      "image/png": "[encoded data removed]",
      "text/plain": [
       "<Figure size 1500x400 with 3 Axes>"
      ]
     },
     "metadata": {},
     "output_type": "display_data"
    }
   ],
   "source": [
    "# Visualize distribution for Ages, CAPS, and NumGoals\n",
    "\n",
    "plt.figure(figsize=(15,4))\n",
    "plt.suptitle('Distribution of variables across all players', fontsize='12')\n",
    "plt.subplots_adjust(hspace = .5, wspace= .3)\n",
    "\n",
    "plt.subplot(1,3,1)\n",
    "plt.hist(ct.Age, 10, color='g')\n",
    "plt.title('Age Distribution')\n",
    "plt.xlabel('Age')\n",
    "plt.ylabel('Frequency')\n",
    "\n",
    "plt.subplot(1,3,2)\n",
    "plt.hist(ct.CAPS, 10, color='g')\n",
    "plt.title('CAPS Distribution')\n",
    "plt.xlabel('CAPS')\n",
    "plt.ylabel('Frequency')\n",
    "\n",
    "plt.subplot(1,3,3)\n",
    "plt.hist(ct.NumGoals, 5, color='g')\n",
    "plt.title('Number of Goals Distribution')\n",
    "plt.xlabel('NumGoals')\n",
    "plt.ylabel('Frequency')\n",
    "\n",
    "plt.show()"
   ]
  },
  {
   "cell_type": "code",
   "execution_count": 16,
   "id": "986a65ff-2d09-4304-b269-094008cca6af",
   "metadata": {
    "tags": []
   },
   "outputs": [
    {
     "data": {
      "text/html": [
       "<div>\n",
       "<style scoped>\n",
       "    .dataframe tbody tr th:only-of-type {\n",
       "        vertical-align: middle;\n",
       "    }\n",
       "\n",
       "    .dataframe tbody tr th {\n",
       "        vertical-align: top;\n",
       "    }\n",
       "\n",
       "    .dataframe thead th {\n",
       "        text-align: right;\n",
       "    }\n",
       "</style>\n",
       "<table border=\"1\" class=\"dataframe\">\n",
       "  <thead>\n",
       "    <tr style=\"text-align: right;\">\n",
       "      <th></th>\n",
       "      <th>Country</th>\n",
       "      <th>Position</th>\n",
       "      <th>Player</th>\n",
       "      <th>Age</th>\n",
       "      <th>CAPS</th>\n",
       "      <th>NumGoals</th>\n",
       "      <th>Year</th>\n",
       "      <th>Country_2</th>\n",
       "      <th>Team_Goals</th>\n",
       "      <th>Team_CAPS</th>\n",
       "      <th>Highest_Stage_Achieved</th>\n",
       "      <th>Stage_Num</th>\n",
       "    </tr>\n",
       "  </thead>\n",
       "  <tbody>\n",
       "    <tr>\n",
       "      <th>149</th>\n",
       "      <td>Canada</td>\n",
       "      <td>FW</td>\n",
       "      <td>Christine Sinclair</td>\n",
       "      <td>35</td>\n",
       "      <td>282.0</td>\n",
       "      <td>181.0</td>\n",
       "      <td>2019</td>\n",
       "      <td>0.0</td>\n",
       "      <td>0.0</td>\n",
       "      <td>0.0</td>\n",
       "      <td>0.0</td>\n",
       "      <td>0.0</td>\n",
       "    </tr>\n",
       "    <tr>\n",
       "      <th>9</th>\n",
       "      <td>USA</td>\n",
       "      <td>FW</td>\n",
       "      <td>Carli Lloyd</td>\n",
       "      <td>36</td>\n",
       "      <td>271.0</td>\n",
       "      <td>107.0</td>\n",
       "      <td>2019</td>\n",
       "      <td>Germany</td>\n",
       "      <td>10.0</td>\n",
       "      <td>791.0</td>\n",
       "      <td>Quarter Final</td>\n",
       "      <td>6.0</td>\n",
       "    </tr>\n",
       "  </tbody>\n",
       "</table>\n",
       "</div>"
      ],
      "text/plain": [
       "    Country Position               Player  Age   CAPS  NumGoals  Year  \\\n",
       "149  Canada       FW  Christine Sinclair    35  282.0     181.0  2019   \n",
       "9       USA       FW          Carli Lloyd   36  271.0     107.0  2019   \n",
       "\n",
       "    Country_2  Team_Goals  Team_CAPS Highest_Stage_Achieved  Stage_Num  \n",
       "149       0.0         0.0        0.0                    0.0        0.0  \n",
       "9     Germany        10.0      791.0          Quarter Final        6.0  "
      ]
     },
     "execution_count": 16,
     "metadata": {},
     "output_type": "execute_result"
    }
   ],
   "source": [
    "# See 2 playeres with the highest CAPS\n",
    "ct.nlargest(2, 'CAPS')"
   ]
  },
  {
   "cell_type": "markdown",
   "id": "154d8898-6218-424c-869d-20b22df78de2",
   "metadata": {},
   "source": [
    "    The results above show the following:\n",
    "    \n",
    "        1) The mean Age between all players is 26.05 years, with the youngest and oldest players being 16 and 41 years old, respectively \n",
    "        2) The distribution of age is somewhat normally distributed. It peaks between 25 and 30 years old\n",
    "        3) The average number of CAPS per player is 41.13, with 0 being the minimum and 282 the maximum\n",
    "        4) The maximum number of CAPS corresponds to player Christine Sinclair, from Canada, whose CAPS were 282 as of 2019\n",
    "        5) Both CAPS and NumGoals are highly skewed to the right and have have high standard deviations. More on this to be analyzed later\n",
    "        6) The average Number of Goals by player is 6.9 goals, with zero goals as the minimum and 181 as the maximum\n",
    "        7) The maximum number of goals also corresponds to player Christine Sinclair, who had scored 181 goals in their career as of 2019\n",
    "        8) NumGoals is extremely skewed to the right\n",
    "      "
   ]
  },
  {
   "cell_type": "code",
   "execution_count": 17,
   "id": "4f6e7284-3c3d-4621-8ab1-e29ba3e094ad",
   "metadata": {
    "tags": []
   },
   "outputs": [
    {
     "data": {
      "text/html": [
       "<div>\n",
       "<style scoped>\n",
       "    .dataframe tbody tr th:only-of-type {\n",
       "        vertical-align: middle;\n",
       "    }\n",
       "\n",
       "    .dataframe tbody tr th {\n",
       "        vertical-align: top;\n",
       "    }\n",
       "\n",
       "    .dataframe thead th {\n",
       "        text-align: right;\n",
       "    }\n",
       "</style>\n",
       "<table border=\"1\" class=\"dataframe\">\n",
       "  <thead>\n",
       "    <tr style=\"text-align: right;\">\n",
       "      <th></th>\n",
       "      <th>Team_Goals</th>\n",
       "      <th>Team_CAPS</th>\n",
       "    </tr>\n",
       "  </thead>\n",
       "  <tbody>\n",
       "    <tr>\n",
       "      <th>count</th>\n",
       "      <td>24.00</td>\n",
       "      <td>24.00</td>\n",
       "    </tr>\n",
       "    <tr>\n",
       "      <th>mean</th>\n",
       "      <td>5.75</td>\n",
       "      <td>901.04</td>\n",
       "    </tr>\n",
       "    <tr>\n",
       "      <th>std</th>\n",
       "      <td>5.79</td>\n",
       "      <td>448.72</td>\n",
       "    </tr>\n",
       "    <tr>\n",
       "      <th>min</th>\n",
       "      <td>0.00</td>\n",
       "      <td>0.00</td>\n",
       "    </tr>\n",
       "    <tr>\n",
       "      <th>25%</th>\n",
       "      <td>1.00</td>\n",
       "      <td>611.00</td>\n",
       "    </tr>\n",
       "    <tr>\n",
       "      <th>50%</th>\n",
       "      <td>4.00</td>\n",
       "      <td>953.00</td>\n",
       "    </tr>\n",
       "    <tr>\n",
       "      <th>75%</th>\n",
       "      <td>9.25</td>\n",
       "      <td>1221.75</td>\n",
       "    </tr>\n",
       "    <tr>\n",
       "      <th>max</th>\n",
       "      <td>25.00</td>\n",
       "      <td>1842.00</td>\n",
       "    </tr>\n",
       "  </tbody>\n",
       "</table>\n",
       "</div>"
      ],
      "text/plain": [
       "       Team_Goals  Team_CAPS\n",
       "count       24.00      24.00\n",
       "mean         5.75     901.04\n",
       "std          5.79     448.72\n",
       "min          0.00       0.00\n",
       "25%          1.00     611.00\n",
       "50%          4.00     953.00\n",
       "75%          9.25    1221.75\n",
       "max         25.00    1842.00"
      ]
     },
     "execution_count": 17,
     "metadata": {},
     "output_type": "execute_result"
    }
   ],
   "source": [
    "# Get descriptive statistics on numerical variables for the secondary table\n",
    "\n",
    "# Create DataFrame with data from the secondary table, for ease of analysis\n",
    "\n",
    "# Reference secondary table\n",
    "imp = ct.iloc[0:24, 7:14]\n",
    "# Create DataFrame - Moving forward, this dataframe will be used for analysis on the secondary table\n",
    "cd1 = pd.DataFrame(imp)\n",
    "\n",
    "# Get stats\n",
    "round(cd1[['Team_Goals', 'Team_CAPS']].describe(),2)"
   ]
  },
  {
   "cell_type": "code",
   "execution_count": 18,
   "id": "e4b0bcee-c8af-441f-9c82-35e1aa08b615",
   "metadata": {
    "tags": []
   },
   "outputs": [
    {
     "data": {
      "image/png": "[encoded data removed]",
      "text/plain": [
       "<Figure size 1200x400 with 2 Axes>"
      ]
     },
     "metadata": {},
     "output_type": "display_data"
    }
   ],
   "source": [
    "# Visualize distribution of Goals and CAPS per Team\n",
    "\n",
    "plt.figure(figsize=(12,4))\n",
    "plt.suptitle('Distribution of variables across countries', fontsize='12')\n",
    "plt.subplots_adjust(hspace = .5, wspace= .3)\n",
    "\n",
    "plt.subplot(1,2,1)\n",
    "plt.hist(cd1.Team_Goals, 10, color='g')\n",
    "plt.title('Goals per Team Distribution')\n",
    "\n",
    "plt.subplot(1,2,2)\n",
    "plt.hist(cd1.Team_CAPS, 10, color='g')\n",
    "plt.title('CAPS per Team Distribution')\n",
    "\n",
    "plt.show()"
   ]
  },
  {
   "cell_type": "code",
   "execution_count": 19,
   "id": "4b405dba-4962-4812-a770-67ad53eda012",
   "metadata": {
    "tags": []
   },
   "outputs": [
    {
     "data": {
      "text/html": [
       "<div>\n",
       "<style scoped>\n",
       "    .dataframe tbody tr th:only-of-type {\n",
       "        vertical-align: middle;\n",
       "    }\n",
       "\n",
       "    .dataframe tbody tr th {\n",
       "        vertical-align: top;\n",
       "    }\n",
       "\n",
       "    .dataframe thead th {\n",
       "        text-align: right;\n",
       "    }\n",
       "</style>\n",
       "<table border=\"1\" class=\"dataframe\">\n",
       "  <thead>\n",
       "    <tr style=\"text-align: right;\">\n",
       "      <th></th>\n",
       "      <th>Country_2</th>\n",
       "      <th>Team_Goals</th>\n",
       "      <th>Team_CAPS</th>\n",
       "      <th>Highest_Stage_Achieved</th>\n",
       "      <th>Stage_Num</th>\n",
       "    </tr>\n",
       "  </thead>\n",
       "  <tbody>\n",
       "    <tr>\n",
       "      <th>23</th>\n",
       "      <td>USA</td>\n",
       "      <td>25.0</td>\n",
       "      <td>1842.0</td>\n",
       "      <td>Final</td>\n",
       "      <td>10.0</td>\n",
       "    </tr>\n",
       "    <tr>\n",
       "      <th>7</th>\n",
       "      <td>England</td>\n",
       "      <td>13.0</td>\n",
       "      <td>1031.0</td>\n",
       "      <td>Semi Final</td>\n",
       "      <td>8.0</td>\n",
       "    </tr>\n",
       "  </tbody>\n",
       "</table>\n",
       "</div>"
      ],
      "text/plain": [
       "   Country_2  Team_Goals  Team_CAPS Highest_Stage_Achieved  Stage_Num\n",
       "23       USA        25.0     1842.0                  Final       10.0\n",
       "7    England        13.0     1031.0             Semi Final        8.0"
      ]
     },
     "execution_count": 19,
     "metadata": {},
     "output_type": "execute_result"
    }
   ],
   "source": [
    "# Find the country with the most goals scored during the 2019 World Cup\n",
    "\n",
    "cd1.nlargest(2, 'Team_Goals')"
   ]
  },
  {
   "cell_type": "markdown",
   "id": "289ccb81-f3d7-4109-b127-06c479c80c12",
   "metadata": {
    "tags": []
   },
   "source": [
    "    The results above show the following:\n",
    "\n",
    "        1) The mean number of goals per country during the 2019 World Cup is 5.75. The maximum number of goals per country is 25 goals\n",
    "        2) The histogram of Goals per team shows an outlier on the far right. This data corresponds to team USA, who scored 25 goals in the tournament. Although the distribution for Team_Goals may be more normalized if the outlier is deleted from the dataset, this is not recommended. Information on all teams is essential for this analysis.\n",
    "        3) The mean number of CAPS per country during the 2019 World Cup is 901.04\n",
    "        4) The distribution of CAPS per country is skewed to the left, also with al outlier to the far right. This data also corresponds to Team USA, who had a total CAPS of 1842 combined among all players. This skewness can also be seen in the Team_CAPS high standard deviation. \n",
    "    "
   ]
  },
  {
   "cell_type": "code",
   "execution_count": 20,
   "id": "a714e2b5-e336-4448-a930-9b929d851f72",
   "metadata": {
    "tags": []
   },
   "outputs": [
    {
     "data": {
      "text/html": [
       "<div>\n",
       "<style scoped>\n",
       "    .dataframe tbody tr th:only-of-type {\n",
       "        vertical-align: middle;\n",
       "    }\n",
       "\n",
       "    .dataframe tbody tr th {\n",
       "        vertical-align: top;\n",
       "    }\n",
       "\n",
       "    .dataframe thead th {\n",
       "        text-align: right;\n",
       "    }\n",
       "</style>\n",
       "<table border=\"1\" class=\"dataframe\">\n",
       "  <thead>\n",
       "    <tr style=\"text-align: right;\">\n",
       "      <th></th>\n",
       "      <th>Country</th>\n",
       "      <th>Position</th>\n",
       "    </tr>\n",
       "  </thead>\n",
       "  <tbody>\n",
       "    <tr>\n",
       "      <th>count</th>\n",
       "      <td>552</td>\n",
       "      <td>552</td>\n",
       "    </tr>\n",
       "    <tr>\n",
       "      <th>unique</th>\n",
       "      <td>24</td>\n",
       "      <td>4</td>\n",
       "    </tr>\n",
       "    <tr>\n",
       "      <th>top</th>\n",
       "      <td>USA</td>\n",
       "      <td>DF</td>\n",
       "    </tr>\n",
       "    <tr>\n",
       "      <th>freq</th>\n",
       "      <td>23</td>\n",
       "      <td>175</td>\n",
       "    </tr>\n",
       "  </tbody>\n",
       "</table>\n",
       "</div>"
      ],
      "text/plain": [
       "       Country Position\n",
       "count      552      552\n",
       "unique      24        4\n",
       "top        USA       DF\n",
       "freq        23      175"
      ]
     },
     "execution_count": 20,
     "metadata": {},
     "output_type": "execute_result"
    }
   ],
   "source": [
    "# Get stats on categorical columns from the main table\n",
    "ct[['Country', 'Position']].describe()"
   ]
  },
  {
   "cell_type": "code",
   "execution_count": 21,
   "id": "d85e6f79-9d4e-4408-9f47-39d11249571a",
   "metadata": {
    "tags": []
   },
   "outputs": [
    {
     "data": {
      "text/plain": [
       "array(['USA', 'Thailand', 'Sweden', 'Chile', 'New Zealand', 'Netherlands',\n",
       "       'Canada', 'Cameroon', 'Scotland', 'Japan', 'England', 'Argentina',\n",
       "       'Jamaica', 'Italy', 'Brazil', 'Australia', 'Spain', 'South Africa',\n",
       "       'Germany', 'China PR', 'South Korea', 'Norway', 'Nigeria',\n",
       "       'France'], dtype=object)"
      ]
     },
     "execution_count": 21,
     "metadata": {},
     "output_type": "execute_result"
    }
   ],
   "source": [
    "# The list below shows the 24 countries that competed in the 2019 World Cup.\n",
    "\n",
    "ct.Country.unique()"
   ]
  },
  {
   "cell_type": "code",
   "execution_count": 22,
   "id": "6ac99ea4-1b4d-4d7d-91d5-97e831f59650",
   "metadata": {
    "tags": []
   },
   "outputs": [
    {
     "data": {
      "image/png": "[encoded data removed]",
      "text/plain": [
       "<Figure size 600x400 with 1 Axes>"
      ]
     },
     "metadata": {},
     "output_type": "display_data"
    }
   ],
   "source": [
    "# Visualize frequency of each position\n",
    "\n",
    "plt.figure(figsize=(6,4))\n",
    "\n",
    "plt.hist(ct.Position, 10, color='g')\n",
    "plt.title('Count of Position across players')\n",
    "plt.xlabel('Positions')\n",
    "plt.ylabel('Frequency')\n",
    "plt.show()"
   ]
  },
  {
   "cell_type": "markdown",
   "id": "76cf1cff-be49-4dce-a0cb-80e59288c36d",
   "metadata": {},
   "source": [
    "\n",
    "    From the results above, we know the following:\n",
    "        1) 24 countries competed in the World Cup\n",
    "        2) This dataset presents four unique soccer positions\n",
    "        3) The most frequent position across players is defense, and goalkeeper is the least frequent position. This was expected, since only one goalkeeper at a time can play in a match, but there can be more than one player in defense. \n",
    "    "
   ]
  },
  {
   "cell_type": "code",
   "execution_count": 23,
   "id": "fd6a584a-def4-4511-b0b6-35509fa0f828",
   "metadata": {
    "tags": []
   },
   "outputs": [
    {
     "data": {
      "text/html": [
       "<div>\n",
       "<style scoped>\n",
       "    .dataframe tbody tr th:only-of-type {\n",
       "        vertical-align: middle;\n",
       "    }\n",
       "\n",
       "    .dataframe tbody tr th {\n",
       "        vertical-align: top;\n",
       "    }\n",
       "\n",
       "    .dataframe thead th {\n",
       "        text-align: right;\n",
       "    }\n",
       "</style>\n",
       "<table border=\"1\" class=\"dataframe\">\n",
       "  <thead>\n",
       "    <tr style=\"text-align: right;\">\n",
       "      <th></th>\n",
       "      <th>Highest_Stage_Achieved</th>\n",
       "    </tr>\n",
       "  </thead>\n",
       "  <tbody>\n",
       "    <tr>\n",
       "      <th>count</th>\n",
       "      <td>24</td>\n",
       "    </tr>\n",
       "    <tr>\n",
       "      <th>unique</th>\n",
       "      <td>5</td>\n",
       "    </tr>\n",
       "    <tr>\n",
       "      <th>top</th>\n",
       "      <td>Group</td>\n",
       "    </tr>\n",
       "    <tr>\n",
       "      <th>freq</th>\n",
       "      <td>8</td>\n",
       "    </tr>\n",
       "  </tbody>\n",
       "</table>\n",
       "</div>"
      ],
      "text/plain": [
       "       Highest_Stage_Achieved\n",
       "count                      24\n",
       "unique                      5\n",
       "top                     Group\n",
       "freq                        8"
      ]
     },
     "execution_count": 23,
     "metadata": {},
     "output_type": "execute_result"
    }
   ],
   "source": [
    "# Get stats for categorical columns from the secondary table\n",
    "cd1[['Highest_Stage_Achieved']].describe()"
   ]
  },
  {
   "cell_type": "code",
   "execution_count": 24,
   "id": "998a6b89-3fb8-4abf-9aa4-41f849fa62b4",
   "metadata": {
    "tags": []
   },
   "outputs": [
    {
     "data": {
      "text/plain": [
       "array(['Group', 'Round of 16', 'Semi Final', 'Quarter Final', 'Final'],\n",
       "      dtype=object)"
      ]
     },
     "execution_count": 24,
     "metadata": {},
     "output_type": "execute_result"
    }
   ],
   "source": [
    "# The below list shows the five stages of the World Cup\n",
    "\n",
    "cd1.Highest_Stage_Achieved.unique()"
   ]
  },
  {
   "cell_type": "markdown",
   "id": "91e652a7-86f5-46c4-8c8c-2b7994d5113a",
   "metadata": {
    "tags": []
   },
   "source": [
    "### Research Question #1: \n",
    "#### Did players with higher CAPS score more goals throughout their careers than those with lower CAPS?"
   ]
  },
  {
   "cell_type": "markdown",
   "id": "bab095da-8299-47be-a9d7-026af9465699",
   "metadata": {},
   "source": [
    "##### Step 1: Visualize distribution of CAPS across players from all teams"
   ]
  },
  {
   "cell_type": "code",
   "execution_count": 25,
   "id": "e6f17056-ac55-4e7b-90b3-9fd6e7550184",
   "metadata": {
    "tags": []
   },
   "outputs": [
    {
     "data": {
      "text/plain": [
       "(0, 10]       110\n",
       "(10, 20]       88\n",
       "(20, 30]       54\n",
       "(30, 40]       48\n",
       "(40, 50]       45\n",
       "(60, 70]       28\n",
       "(70, 80]       25\n",
       "(50, 60]       23\n",
       "(80, 90]       14\n",
       "(90, 100]      13\n",
       "(120, 130]     11\n",
       "(140, 160]     11\n",
       "(100, 110]     10\n",
       "(110, 120]     10\n",
       "(130, 140]      9\n",
       "(180, 200]      4\n",
       "(160, 180]      3\n",
       "Name: CAPS, dtype: int64"
      ]
     },
     "execution_count": 25,
     "metadata": {},
     "output_type": "execute_result"
    }
   ],
   "source": [
    "# First, create bins for CAPS per player\n",
    "\n",
    "ind_CAPS = ct['CAPS']\n",
    "bins = [0,10,20,30,40,50,60,70,80,90,100,110,120,130,140,160,180,200]\n",
    "cats = pd.cut(ind_CAPS, bins)\n",
    "counts = pd.Series(cats).value_counts()\n",
    "counts"
   ]
  },
  {
   "cell_type": "code",
   "execution_count": 26,
   "id": "8235512a-2063-4729-a43d-f644053ca45e",
   "metadata": {
    "tags": []
   },
   "outputs": [
    {
     "data": {
      "image/png": "[encoded data removed]",
      "text/plain": [
       "<Figure size 640x480 with 1 Axes>"
      ]
     },
     "metadata": {},
     "output_type": "display_data"
    }
   ],
   "source": [
    "# Second, create Histogram\n",
    "\n",
    "plt.hist(ct.CAPS,bins=[0,10,20,30,40,50,60,70,80,90,100,110,120,130,140,160,180,200], color='g')\n",
    "mean = str(round(ct.CAPS.mean(), 2))\n",
    "stdev = str(round(ct.CAPS.std(), 2))\n",
    "plt.title(f'CAPS across Players of all Teams: $\\mu= {mean}$, $\\sigma={stdev}$')\n",
    "plt.xlabel('CAPS')\n",
    "plt.ylabel('Frequency')\n",
    "plt.show()  "
   ]
  },
  {
   "cell_type": "code",
   "execution_count": 27,
   "id": "acbee5bd-f3d8-44a0-8c33-7a79a4199795",
   "metadata": {
    "tags": []
   },
   "outputs": [
    {
     "name": "stdout",
     "output_type": "stream",
     "text": [
      "1.6621047786789196\n"
     ]
    }
   ],
   "source": [
    "# Third, calculate skewness\n",
    "\n",
    "print(skew(ct['CAPS'], axis=0, bias=True))"
   ]
  },
  {
   "cell_type": "markdown",
   "id": "1d9b16ad-fff2-4daf-9e52-f747f8afddef",
   "metadata": {},
   "source": [
    "    \n",
    "    As the histogram and the skewness of 1.66 show, the distribution of CAPS across all players is highly skewed to the right. Recall that if the skewness is less than -1 or greater 1, the data is considered to be highly skewed. In this context, the skewness means that there are very few players with a high number of CAPS, compared to the rest.\n",
    "    "
   ]
  },
  {
   "cell_type": "markdown",
   "id": "1c0be902-83b4-4d51-b26c-274529882668",
   "metadata": {
    "tags": []
   },
   "source": [
    "##### Step 2: Find and visualize correlation between CAPS and NumGoals"
   ]
  },
  {
   "cell_type": "code",
   "execution_count": 28,
   "id": "fc8f4ff7-2eff-48f0-a55d-1cf1b985a89d",
   "metadata": {
    "tags": []
   },
   "outputs": [
    {
     "data": {
      "text/plain": [
       "0.6675065431822671"
      ]
     },
     "execution_count": 28,
     "metadata": {},
     "output_type": "execute_result"
    }
   ],
   "source": [
    "# Find the correlation coefficient between CAPS and NumGoals\n",
    "\n",
    "np.corrcoef(ct['CAPS'], ct['NumGoals'])[0,1]"
   ]
  },
  {
   "cell_type": "code",
   "execution_count": 29,
   "id": "26d94c82-8e9f-4f0e-8cc5-513145b11933",
   "metadata": {
    "tags": []
   },
   "outputs": [
    {
     "data": {
      "image/png": "[encoded data removed]",
      "text/plain": [
       "<Figure size 800x500 with 1 Axes>"
      ]
     },
     "metadata": {},
     "output_type": "display_data"
    }
   ],
   "source": [
    "# Create scatterplot to visualize correlation between CAPS and NumGoals per player\n",
    "\n",
    "x1 = ct['CAPS']\n",
    "y1 = ct['NumGoals']\n",
    "plt.figure(figsize=(8, 5))\n",
    "data1 = {'x': x1, 'y': y1}\n",
    "dfv = pd.DataFrame(data1)\n",
    "sns.regplot(x = \"x\", y = \"y\", data = dfv, color='g')\n",
    "sns.set_theme(style='white')\n",
    "plt.xlabel('CAPS per Player')\n",
    "plt.ylabel('Total Goals per player')\n",
    "plt.grid(False)"
   ]
  },
  {
   "cell_type": "markdown",
   "id": "2843c789-2920-4df5-895a-4a52ab0adc38",
   "metadata": {},
   "source": [
    "    \n",
    "    The correlation coefficient of 0.67 shows that there is a positive relationship between the players' CAPS and the number of goals they scored up to 2019. This is also shown in the scatterplot's positive trend. However, it is highly important to mention that there are two outliers in the data with a high number of both CAPS and Goals per player. These outliers may be driving up the correlation between the two variables.\n",
    "    \n",
    "    There is a lot of variance in the data. For example, there are many players with high CAPS who scored less than or equal to 25 goals as of 2019. This means that there are more factors (aside from CAPS) that influence the number of goals each player scores. \n",
    "    "
   ]
  },
  {
   "cell_type": "markdown",
   "id": "832419fa-6592-40b2-b642-e0fdf26814b9",
   "metadata": {},
   "source": [
    "#### Research Question #2: \n",
    "#### Did teams with higher CAPS score more goals than those with lower CAPS during the 2019 World Cup? "
   ]
  },
  {
   "cell_type": "markdown",
   "id": "cd1c38ba-1291-48ea-b9c0-a09730df2949",
   "metadata": {},
   "source": [
    "##### Step 1: Visualize distribution of CAPS among countries"
   ]
  },
  {
   "cell_type": "code",
   "execution_count": 30,
   "id": "2ce6aacc-e619-4d8f-bc5f-eb7f0420e9df",
   "metadata": {
    "tags": []
   },
   "outputs": [
    {
     "data": {
      "image/png": "[encoded data removed]",
      "text/plain": [
       "<Figure size 640x480 with 1 Axes>"
      ]
     },
     "metadata": {},
     "output_type": "display_data"
    }
   ],
   "source": [
    "# Creating a histogram to visualize distribution of CAPS among Teams\n",
    "\n",
    "c1 = cd1['Team_CAPS']\n",
    "\n",
    "plt.hist(c1, 10, color='g')\n",
    "mean1 = str(round(c1.mean(),2))\n",
    "stdev1 = str(round(c1.std(),2))\n",
    "plt.title(f'Distribution of CAPS Between Countries: $\\mu= {mean1}$, $\\sigma={stdev1}$')\n",
    "plt.xlabel('CAPS')\n",
    "plt.ylabel('Frequency')\n",
    "plt.show()"
   ]
  },
  {
   "cell_type": "code",
   "execution_count": 31,
   "id": "e81975f8-79ec-458c-a991-bf435fa7a624",
   "metadata": {
    "tags": []
   },
   "outputs": [
    {
     "name": "stdout",
     "output_type": "stream",
     "text": [
      "-0.1501399809134012\n"
     ]
    }
   ],
   "source": [
    "# Find skewness in CAPS between countries\n",
    "\n",
    "print(skew(cd1['Team_CAPS'], axis=0, bias=True))"
   ]
  },
  {
   "cell_type": "markdown",
   "id": "30aec96e-a60a-4fc3-92d7-b9bc54cec52c",
   "metadata": {},
   "source": [
    "    \n",
    "    The negative skewness of -0.15 is consistent with the histogram above, where the left tail of the distribution is longer. However, the distribution of CAPS per country is not as skewed as CAPS between players. Recall from the descriptve statistics analysis that the mean CAPS between countries is 901 and the maximum is 1842. As explained before, team USA is the outlier on the far right of the histogram. \n",
    "    "
   ]
  },
  {
   "cell_type": "markdown",
   "id": "461b1140-7512-4ca4-b076-d8ba1e98d44b",
   "metadata": {},
   "source": [
    "##### Step 2: Find and visualize correlation between total Team CAPS and Team Goals"
   ]
  },
  {
   "cell_type": "code",
   "execution_count": 32,
   "id": "302073f7-7039-4573-9960-5435601ec407",
   "metadata": {
    "tags": []
   },
   "outputs": [
    {
     "data": {
      "image/png": "[encoded data removed]",
      "text/plain": [
       "<Figure size 800x500 with 1 Axes>"
      ]
     },
     "metadata": {},
     "output_type": "display_data"
    }
   ],
   "source": [
    "#Creating Scatterplot\n",
    "\n",
    "x = cd1['Team_CAPS']\n",
    "y = cd1['Team_Goals']\n",
    "plt.figure(figsize=(8, 5))\n",
    "data1 = {'x': x, 'y': y}\n",
    "dfv = pd.DataFrame(data1)\n",
    "sns.regplot(x = \"x\", y = \"y\", data=dfv, color='g')\n",
    "sns.set_theme(style='white')\n",
    "plt.xlabel('Total CAPS per Team')\n",
    "plt.ylabel('Total Goals per Team')\n",
    "plt.grid(False)"
   ]
  },
  {
   "cell_type": "code",
   "execution_count": 33,
   "id": "3d6a7679-8178-4321-bc02-6934943be63e",
   "metadata": {
    "tags": []
   },
   "outputs": [
    {
     "data": {
      "text/plain": [
       "0.6043450259998969"
      ]
     },
     "execution_count": 33,
     "metadata": {},
     "output_type": "execute_result"
    }
   ],
   "source": [
    "# Finding Correlation Coefficient\n",
    "\n",
    "np.corrcoef(cd1['Team_Goals'], cd1['Team_CAPS'])[0,1]"
   ]
  },
  {
   "cell_type": "markdown",
   "id": "47d5f966-db23-4cf8-bb13-875d421d0908",
   "metadata": {},
   "source": [
    "    \n",
    "    The correlation coefficient of 0.60 shows that, although not strong, there is a positive relationship between the teams' CAPS and the number of goals they scored during the 2019 World Cup. The scatterplot shows that countries with higher CAPS, on average,  scored more goals than those with lower CAPS. However, the trendline shows that some countries with CAPS > 1000 (above the average) also scored < 6 goals during the World Cup. Six is the average of goals per team. "
   ]
  },
  {
   "cell_type": "markdown",
   "id": "c56fc135-f7da-4a7c-a05b-c4ad67b3cc50",
   "metadata": {},
   "source": [
    "### Research Question #3:\n",
    "#### Did countries with higher CAPS make it further in the World Cup compared to those with lower CAPS?"
   ]
  },
  {
   "cell_type": "markdown",
   "id": "dec3e5d4-be9d-4253-8045-765be518fabe",
   "metadata": {
    "tags": []
   },
   "source": [
    "##### Step 1: Find the average CAPS among countries"
   ]
  },
  {
   "cell_type": "code",
   "execution_count": 34,
   "id": "b236b186-d2ac-42c3-a675-27292b66c3df",
   "metadata": {
    "tags": []
   },
   "outputs": [
    {
     "data": {
      "text/plain": [
       "Team_CAPS    901.041667\n",
       "dtype: float64"
      ]
     },
     "execution_count": 34,
     "metadata": {},
     "output_type": "execute_result"
    }
   ],
   "source": [
    "cd1[['Team_CAPS']].mean()"
   ]
  },
  {
   "cell_type": "markdown",
   "id": "c25a30f6-c66b-4d16-9334-185e67dd72f7",
   "metadata": {},
   "source": [
    "##### Step 2: Create a Bubble Chart to visualize data"
   ]
  },
  {
   "cell_type": "code",
   "execution_count": 35,
   "id": "b3e94382-bc7b-4192-b5f1-d8691290f87e",
   "metadata": {
    "tags": []
   },
   "outputs": [
    {
     "data": {
      "image/png": "[encoded data removed]",
      "text/plain": [
       "<Figure size 800x800 with 1 Axes>"
      ]
     },
     "metadata": {},
     "output_type": "display_data"
    },
    {
     "data": {
      "image/png": "[encoded data removed]",
      "text/plain": [
       "<Figure size 640x480 with 1 Axes>"
      ]
     },
     "metadata": {},
     "output_type": "display_data"
    }
   ],
   "source": [
    "#Create variable for countries that have CAPS of more than 940\n",
    "gr1 = cd1.loc[cd1.Team_CAPS>901]\n",
    "# Convert to df\n",
    "dgr1 = pd.DataFrame(gr1) \n",
    "\n",
    "\n",
    "# Create variable for countries that have CAPS of less than 940\n",
    "gr2 = cd1.loc[cd1.Team_CAPS<901]\n",
    "# Convert to df\n",
    "dgr2 = pd.DataFrame(gr2)\n",
    "\n",
    "data1 = dgr1\n",
    "data2 = dgr2\n",
    "\n",
    "plt.figure(figsize=(8,8))\n",
    "plt.subplots_adjust(hspace = .3)\n",
    "sns.color_palette(\"Paired\")\n",
    "\n",
    "\n",
    "plt.subplot(2, 1, 1)\n",
    "sns.scatterplot(data=data1, x=\"Stage_Num\", y=\"Team_CAPS\", size=\"Team_CAPS\", hue=\"Country_2\", palette=\"Paired\")\n",
    "plt.legend(bbox_to_anchor=(1,1), loc='upper left', fontsize=12)\n",
    "plt.grid(False)\n",
    "plt.title('Teams with mean > 41')\n",
    "plt.show()\n",
    "\n",
    "plt.subplot(2, 1, 2)\n",
    "sns.scatterplot(data=data2, x=\"Stage_Num\", y=\"Team_CAPS\", size=\"Team_CAPS\", hue=\"Country_2\", palette=\"Set2\")\n",
    "plt.legend(bbox_to_anchor=(1,1), loc='upper left', fontsize=12)\n",
    "plt.grid(False)\n",
    "plt.title('Teams with mean < 41')\n",
    "plt.show()"
   ]
  },
  {
   "cell_type": "markdown",
   "id": "0bbda359-1020-44ed-a0aa-edd550cbfe70",
   "metadata": {},
   "source": [
    "    \n",
    "    Subplot 1 is located in the top row, and subplot 2 is located in the bottom row. Subplot 1 shows the teams with CAPS higher than 41, and subplot 2 shows the teams with CAPS lower than 41. Recall that 41 is the mean number of CAPS among teams in the tournament, so it is the benchmark for analysis. As we can see from the subplots above, teams with higher CAPS certainly made it further in the World Cup compared to those with lower CAPS. Teams with lower CAPS made it at most to Quarter Finals (stage number = 6), while teams with higher CAPS made it to Semi-Finals and Finals (stage number 8 and 10, respectively)."
   ]
  },
  {
   "cell_type": "markdown",
   "id": "0e3905ee-f5a3-4ee6-a63c-1b786d2d1976",
   "metadata": {},
   "source": [
    "### Research Question 4: \n",
    "#### Is there a position that notably scored the most goals across all players?"
   ]
  },
  {
   "cell_type": "markdown",
   "id": "0acafd77-9d1b-4725-9aad-1a221120097d",
   "metadata": {
    "tags": []
   },
   "source": [
    "##### Step 1: Find informaiton on the categorical variable \"Position\""
   ]
  },
  {
   "cell_type": "code",
   "execution_count": 36,
   "id": "a9694bbc-1609-40ad-b778-3b83c192fb1b",
   "metadata": {
    "tags": []
   },
   "outputs": [
    {
     "data": {
      "text/plain": [
       "DF    175\n",
       "MF    166\n",
       "FW    139\n",
       "GK     72\n",
       "Name: Position, dtype: int64"
      ]
     },
     "execution_count": 36,
     "metadata": {},
     "output_type": "execute_result"
    }
   ],
   "source": [
    "# Let's see how many players are in each position\n",
    "\n",
    "ct.Position.value_counts()"
   ]
  },
  {
   "cell_type": "code",
   "execution_count": 37,
   "id": "f2764523-58e2-43f4-9d66-ce5a1fb87807",
   "metadata": {
    "tags": []
   },
   "outputs": [
    {
     "data": {
      "image/png": "[encoded data removed]",
      "text/plain": [
       "<Figure size 800x500 with 1 Axes>"
      ]
     },
     "metadata": {},
     "output_type": "display_data"
    }
   ],
   "source": [
    "# Counf of players in each position\n",
    "v = ['DF', 'MF', 'FW', 'GK']\n",
    "v1 = ['175', '166', '139', '72']\n",
    "\n",
    "plt.figure(figsize=(8,5))\n",
    "plt.pie(v1, labels=v, autopct='%1.1f%%')\n",
    "plt.title('Percentage of Players in each Position')\n",
    "plt.show()"
   ]
  },
  {
   "cell_type": "markdown",
   "id": "9136703a-4931-4a5a-97c8-b43663523010",
   "metadata": {},
   "source": [
    "    \n",
    "    The graph above shows that 30.1% of all players in 2019 played in the Middle Field position. About 31.7% of them played in the defense, 25.2% played forward, and 13% of them were goal-keepers\n",
    "    "
   ]
  },
  {
   "cell_type": "code",
   "execution_count": 38,
   "id": "3340e47d-9b20-4f81-bb97-90c4cd2bc66e",
   "metadata": {
    "tags": []
   },
   "outputs": [
    {
     "data": {
      "image/png": "[encoded data removed]",
      "text/plain": [
       "<Figure size 500x500 with 1 Axes>"
      ]
     },
     "metadata": {},
     "output_type": "display_data"
    }
   ],
   "source": [
    "# Visualize sum of goals per position among all players with a Bar plot\n",
    "\n",
    "# Create variable to store count of goals per position\n",
    "position = ct.groupby(by=[\"Position\"]).NumGoals.sum()\n",
    "\n",
    "#Convert variable into dataframe\n",
    "df_p = pd.DataFrame(position)\n",
    "df_p1 = df_p.reset_index()\n",
    "df_p1\n",
    "\n",
    "#Create Bar Plot\n",
    "\n",
    "x9 = df_p1['Position'] \n",
    "y9 = df_p1['NumGoals']\n",
    "plt.figure(figsize=(5, 5))\n",
    "plt.barh(x9, y9, color='g')\n",
    "plt.xlabel('Number of Goals')\n",
    "plt.ylabel('Positions')\n",
    "plt.title('Sum of Goals per Position')\n",
    "plt.show()"
   ]
  },
  {
   "cell_type": "markdown",
   "id": "2d234383-47b6-432a-9808-219a73bc9150",
   "metadata": {},
   "source": [
    "    \n",
    "    The bar plot abpve shows that there is a position that notably scored the most goals - Forward players. Goal-keepers did not score any goals in the 2019 World Cup.\n",
    "    "
   ]
  },
  {
   "cell_type": "markdown",
   "id": "caa9ae61-57ac-4747-8a15-9fd7afecdb15",
   "metadata": {},
   "source": [
    "### PART 3: \n",
    "#### Conclusion"
   ]
  },
  {
   "cell_type": "markdown",
   "id": "1a83c985-84f1-42e4-a71c-d80359de0491",
   "metadata": {},
   "source": [
    "\n",
    "    This report provided interesting insights into the 2019 FIFA Women’s World Cup. For example, the importance of CAPS in the success of each player and team. This analysis confirmed a positive relationship between the number of CAPS and goals scored, both per player and per team. This means that players and teams with higher CAPS scored more goals than those with lower CAPS. However, there is a lot of variance in the data and outliers, and the correlation coefficients are only mildly strong (between 0.6 and 0.7). \n",
    "\n",
    "    I expected Forward players to score the most goals due to their position on the field, and also that teams with higher CAPS would make it further in the World Cup. However, I did not expect to see a not-so-strong relationship between the number of goals and CAPS. When I started this analysis, I expected to see high correlations between those two variables. The results of this report were certainly surprising, and now I am more intrigued to know what factors are significant when it comes to determining the number of goals. Looking back, there are some things I would have done differently for this analysis. For example, I would have focused on stats per country and not per player. I believe that if I had focused on only countries, I would have been able to better analyze the factors that determine the success of a team.\n",
    "\n",
    "    Looking into the future, I would be interested in creating a regression model with input variables that determine the success of a team, measured in the number of goals in a World Cup. I would want CAPS to be one of those variables, and look at the R Squared and CAPS p-value to determine the importance of CAPS when it comes to determining the number of goals. \n"
   ]
  },
  {
   "cell_type": "markdown",
   "id": "2c6150a3-e7c8-4af2-ae37-5726973d19cb",
   "metadata": {},
   "source": [
    "### PART 4:\n",
    "#### Sources:\n",
    "\n",
    "Sports Viz Sunday(2019). Womens Squads. Data World. Retrieved Oct 9 2023 from https://data.world/sportsvizsunday/womens-world-cup-data/workspace/file?filename=Womens+Squads.xlsx\n",
    "\n",
    "Op, Matt (2022). FIFA Women's World Cup Results. Kaggle. Retrieved Oct 9 2023 from https://www.kaggle.com/datasets/mattop/fifa-womens-world-cup-stats/data\n",
    "\n",
    "Colffer, Analia (2023). 2019WorldCup_Results. Information retrieved from https://www.espn.com/soccer/story/_/id/37571673/2019-fifa-women-world-cup-results-full\n"
   ]
  }
 ],
 "metadata": {
  "kernelspec": {
   "display_name": "Python 3 (ipykernel)",
   "language": "python",
   "name": "python3"
  },
  "language_info": {
   "codemirror_mode": {
    "name": "ipython",
    "version": 3
   },
   "file_extension": ".py",
   "mimetype": "text/x-python",
   "name": "python",
   "nbconvert_exporter": "python",
   "pygments_lexer": "ipython3",
   "version": "3.11.4"
  }
 },
 "nbformat": 4,
 "nbformat_minor": 5
}
